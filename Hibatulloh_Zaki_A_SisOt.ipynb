{
  "nbformat": 4,
  "nbformat_minor": 0,
  "metadata": {
    "colab": {
      "provenance": []
    },
    "kernelspec": {
      "name": "python3",
      "display_name": "Python 3"
    },
    "language_info": {
      "name": "python"
    }
  },
  "cells": [
    {
      "cell_type": "code",
      "execution_count": null,
      "metadata": {
        "id": "hsJ8kGLEbGX1"
      },
      "outputs": [],
      "source": []
    },
    {
      "cell_type": "markdown",
      "source": [
        "**Nama : Hibatulloh Zaki Ardiansyah**\n",
        "\n",
        "**NIM    : 235150301111034**\n",
        "\n",
        "**Permodelan Motor DC Memakai Python serta Library SYMPY**"
      ],
      "metadata": {
        "id": "yQsJFjTJb6uB"
      }
    },
    {
      "cell_type": "markdown",
      "source": [
        "Inisialisasi"
      ],
      "metadata": {
        "id": "Ku_YUt2SchE9"
      }
    },
    {
      "cell_type": "code",
      "source": [
        "import sympy as sp\n",
        "\n",
        "# Definisikan terlebih dahulu pada simbol yang akan dipakai\n",
        "# Masukan simbol yang telah di definisikan ke dalam variabel\n",
        "\n",
        "# Fungsi di domain Waktu\n",
        "\n",
        "t = sp.symbols('t') # Variabel Waktu\n",
        "Vt =  sp.Function('V')(t)\n",
        "i_t = sp.Function('i')(t) # Arus\n",
        "omega_t = sp.Function('omega')(t) # Output Kecepatan Sudut\n",
        "\n",
        "# Fungsi di domain Laplace\n",
        "# Disini tidak menggunakan perintah laplace_transform() karena membutuhkan kondisi awal\n",
        "# Alasan lainnya yaitu perintah laplace_transform() tidak bisa dipakai untuk bentuk aljabar simbolik\n",
        "# Jadi disini yang dilakukan adalah mengubah domain waktu ke domain laplace secara manual\n",
        "\n",
        "s = sp.symbols('s') # Variabel Laplace\n",
        "Vs = sp.Function('V')(s) # Input Tegangan\n",
        "i_s = sp.Function('i')(s) # Arus\n",
        "omega_s = sp.Function('omega')(s) # Output Kecepatan Sudut\n",
        "\n",
        "# Parameter Motor DC\n",
        "\n",
        "R = sp.symbols('R') # Resistor\n",
        "L = sp.symbols('L') # Induktor (Jika nilainya sangat kecil bisa diabaikan)\n",
        "Ke = sp.symbols('K') # Konstanta Motor (back EMF)\n",
        "Kt = sp.symbols('K') # Konstanta Motor (Torsi)\n",
        "J = sp.symbols('J') # Momen Inersia\n",
        "B = sp.symbols('B') # Friksi Mekanik"
      ],
      "metadata": {
        "id": "STFyjoK8cK9R"
      },
      "execution_count": 10,
      "outputs": []
    },
    {
      "cell_type": "markdown",
      "source": [
        "### **Menulis Persamaan Dasar yang Dimiliki oleh Motor DC**"
      ],
      "metadata": {
        "id": "FpRxUr2RcjTw"
      }
    },
    {
      "cell_type": "code",
      "source": [
        "# Persamaan GGL balik\n",
        "print(\"Persamaan GGL balik pada domain waktu\")\n",
        "Eb_t = Ke * omega_t\n",
        "sp.pprint(Eb_t)\n",
        "print(\"\\n\")\n",
        "\n",
        "# Persamaan listrik pada domain waktu\n",
        "print(\"Persamaan Listrik pada domain waktu\")\n",
        "time_domain_Listrik = sp.Eq(Vt, R * i_t + L * sp.diff(i_t, t) + Eb_t)\n",
        "sp.pprint(time_domain_Listrik)\n",
        "print(\"\\n\")\n",
        "\n",
        "# Persamaan Mekanik\n",
        "print(\"Persamaan Mekanik pada domain waktu\")\n",
        "time_domain_Mekanik = sp.Eq(Kt * i_t, J * sp.diff(omega_t, t) + B * omega_t)\n",
        "sp.pprint(time_domain_Mekanik)\n",
        "print(\"\\n\")"
      ],
      "metadata": {
        "colab": {
          "base_uri": "https://localhost:8080/"
        },
        "id": "jVhJzfwZc3v8",
        "outputId": "f50f7d1b-3085-4536-daa8-39a35e5cdc5c"
      },
      "execution_count": 5,
      "outputs": [
        {
          "output_type": "stream",
          "name": "stdout",
          "text": [
            "Persamaan GGL balik pada domain waktu\n",
            "K⋅ω(t)\n",
            "\n",
            "\n",
            "Persamaan Listrik pada domain waktu\n",
            "                  d                \n",
            "V(t) = K⋅ω(t) + L⋅──(i(t)) + R⋅i(t)\n",
            "                  dt               \n",
            "\n",
            "\n",
            "Persamaan Mekanik pada domain waktu\n",
            "                    d       \n",
            "K⋅i(t) = B⋅ω(t) + J⋅──(ω(t))\n",
            "                    dt      \n",
            "\n",
            "\n"
          ]
        }
      ]
    },
    {
      "cell_type": "markdown",
      "source": [
        "### **Mengubah dari Domain Waktu menjadi Domain Laplace**"
      ],
      "metadata": {
        "id": "n8G8YSkLc_eQ"
      }
    },
    {
      "cell_type": "code",
      "source": [],
      "metadata": {
        "id": "7lvwsSkEiXfg"
      },
      "execution_count": null,
      "outputs": []
    },
    {
      "cell_type": "code",
      "source": [
        "# Persamaan GGL balik pada domain laplace\n",
        "print(\"Persamaan GGL balik pada domain Laplace\")\n",
        "Eb_s = Ke * omega_s\n",
        "sp.pprint(Eb_s)\n",
        "print(\"\\n\")\n",
        "\n",
        "# Persamaan listrik pada domain laplace\n",
        "print(\"Persamaan Listrik pada domain Laplace\")\n",
        "laplace_domain_Listrik= sp.Eq(Vs, R * i_s + L * s * i_s + Eb_s)\n",
        "\n",
        "# Persamaan jika nilai L sangat kecil sehingga diabaikan\n",
        "laplace_domain_Listrik_l_diabaikan = sp.Eq(Vs, R * i_s + Eb_s)\n",
        "sp.pprint(laplace_domain_Listrik_l_diabaikan)\n",
        "print(\"\\n\")\n",
        "\n",
        "# Persamaan Mekanik pada domain laplace\n",
        "print(\"Persamaan Mekanik pada domain Laplace\")\n",
        "laplace_domain_Mekanik = sp.Eq(Kt * i_s, J * s * omega_s + B * omega_s)\n",
        "sp.pprint(laplace_domain_Mekanik)\n",
        "print(\"\\n\")"
      ],
      "metadata": {
        "colab": {
          "base_uri": "https://localhost:8080/"
        },
        "id": "1zbwHt3PdOHZ",
        "outputId": "7c580c22-a407-43d5-8c2d-bfc3b53ce785"
      },
      "execution_count": 6,
      "outputs": [
        {
          "output_type": "stream",
          "name": "stdout",
          "text": [
            "Persamaan GGL balik pada domain Laplace\n",
            "K⋅ω(s)\n",
            "\n",
            "\n",
            "Persamaan Listrik pada domain Laplace\n",
            "V(s) = K⋅ω(s) + R⋅i(s)\n",
            "\n",
            "\n",
            "Persamaan Mekanik pada domain Laplace\n",
            "K⋅i(s) = B⋅ω(s) + J⋅s⋅ω(s)\n",
            "\n",
            "\n"
          ]
        }
      ]
    },
    {
      "cell_type": "markdown",
      "source": [
        "### **Cari nilai dari i(s) kemudian subtitusikan nilai i(s) tersebut ke dalam persamaan lainnya**"
      ],
      "metadata": {
        "id": "hsKomtuTdpI9"
      }
    },
    {
      "cell_type": "code",
      "source": [
        "# Persamaan menggunakan sp.solve untuk mencari i_s_ dan langsung pindah ruas\n",
        "print(\"Nilai i(s) dari persamaan mekanik\")\n",
        "i_s_ = sp.solve(laplace_domain_Mekanik, i_s)[0]\n",
        "sp.pprint(sp.Eq(sp.Function('i')(s),i_s_))\n",
        "print(\"\\n\")\n",
        "\n",
        "# Persamaan menggunakan .subs untuk melakukan subtitusi\n",
        "print(\"Memasukkan nilai i(s) yang didapat dari persamaan mekanik ke persamaan V(s)\")\n",
        "laplace_domain_Listrik_subs = laplace_domain_Listrik_l_diabaikan.subs(i_s, i_s_)\n",
        "sp.pprint(laplace_domain_Listrik_subs)\n",
        "print(\"\\n\")"
      ],
      "metadata": {
        "colab": {
          "base_uri": "https://localhost:8080/"
        },
        "id": "tVvp9Y6sd77p",
        "outputId": "3640e033-e20c-4eae-b5c9-4833e4816317"
      },
      "execution_count": 7,
      "outputs": [
        {
          "output_type": "stream",
          "name": "stdout",
          "text": [
            "Nilai i(s) dari persamaan mekanik\n",
            "       (B + J⋅s)⋅ω(s)\n",
            "i(s) = ──────────────\n",
            "             K       \n",
            "\n",
            "\n",
            "Memasukkan nilai i(s) yang didapat dari persamaan mekanik ke persamaan V(s)\n",
            "                R⋅(B + J⋅s)⋅ω(s)\n",
            "V(s) = K⋅ω(s) + ────────────────\n",
            "                       K        \n",
            "\n",
            "\n"
          ]
        }
      ]
    },
    {
      "cell_type": "markdown",
      "source": [
        "### **Dapatkan nilai dari V(s) dan ω(s) untuk perhitungan fungsi alih atau transfer Function**"
      ],
      "metadata": {
        "id": "kU8XcKH-fPck"
      }
    },
    {
      "cell_type": "code",
      "source": [
        "# Gunaakan .rhs untuk mengambil nilai sebelah kanan ruas dari V(s)\n",
        "print(\"Nilai dari V(s) pada persamaan listrik yang telah di subtitusi\")\n",
        "V_s = laplace_domain_Listrik_subs.rhs\n",
        "sp.pprint(V_s)\n",
        "print(\"\\n\")\n",
        "\n",
        "# Nilai omega didapatkan dari persamaan yang telah dibuat sebelumnya di atas\n",
        "# Nilai omega dapat dilihat pada persamaan fungsi laplace di awal program\n",
        "print(\"Nilai dari omega\")\n",
        "sp.pprint(omega_s)\n",
        "print(\"\\n\")"
      ],
      "metadata": {
        "colab": {
          "base_uri": "https://localhost:8080/"
        },
        "id": "FQpLHNBhfSgl",
        "outputId": "1399fa4b-ec17-4635-95ea-0d02a641a2ac"
      },
      "execution_count": 8,
      "outputs": [
        {
          "output_type": "stream",
          "name": "stdout",
          "text": [
            "Nilai dari V(s) pada persamaan listrik yang telah di subtitusi\n",
            "         R⋅(B + J⋅s)⋅ω(s)\n",
            "K⋅ω(s) + ────────────────\n",
            "                K        \n",
            "\n",
            "\n",
            "Nilai dari omega\n",
            "ω(s)\n",
            "\n",
            "\n"
          ]
        }
      ]
    },
    {
      "cell_type": "markdown",
      "source": [
        "### **Kemudian lakukan perhitungan untuk menentukan fungsi alihnya**"
      ],
      "metadata": {
        "id": "bne0AuAeglGz"
      }
    },
    {
      "cell_type": "code",
      "source": [
        "# Disini langsung dicari nilai dari fungsi alihnya\n",
        "print(\"Persamaan Transfer Function\")\n",
        "sp.pprint(sp.Eq(sp.Function('H')(s),sp.Function('ω')(s)/sp.Function('V')(s)))\n",
        "print(\"\\n\")\n",
        "\n",
        "# Cari fungsi alih atau transfer function atau H(s)\n",
        "fungsi_alih = sp.expand(sp.simplify(omega_s / V_s))\n",
        "\n",
        "\n",
        "# Setelah itu cetak hasilnya\n",
        "print(\"Nilai transfer functionnya yaitu : \")\n",
        "sp.pprint(sp.Eq(sp.Function('ω')(s)/sp.Function('V')(s),fungsi_alih))"
      ],
      "metadata": {
        "colab": {
          "base_uri": "https://localhost:8080/"
        },
        "id": "g9KDpcERg0xG",
        "outputId": "7b2bda74-5796-4495-91fc-8fb85654edf6"
      },
      "execution_count": 9,
      "outputs": [
        {
          "output_type": "stream",
          "name": "stdout",
          "text": [
            "Persamaan Transfer Function\n",
            "       ω(s)\n",
            "H(s) = ────\n",
            "       V(s)\n",
            "\n",
            "\n",
            "Nilai transfer functionnya yaitu : \n",
            "ω(s)          K        \n",
            "──── = ────────────────\n",
            "V(s)                  2\n",
            "       B⋅R + J⋅R⋅s + K \n"
          ]
        }
      ]
    }
  ]
}
